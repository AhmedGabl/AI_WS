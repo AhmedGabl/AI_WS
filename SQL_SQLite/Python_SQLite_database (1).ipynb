{
  "cells": [
    {
      "cell_type": "markdown",
      "metadata": {
        "id": "JJNmCEEpDR6v"
      },
      "source": [
        "<h3 style=\"color:#395B64;font-size:30px;text-align:center\">Python - using SQLite database</h3>\n",
        "\n",
        "----"
      ]
    },
    {
      "cell_type": "markdown",
      "metadata": {
        "id": "_5ejvpftDR6x"
      },
      "source": [
        "<div style=\"width:100%;text-align: center;\"> <img align=middle\n",
        "src=\"https://upload.wikimedia.org/wikipedia/commons/3/38/SQLite370.svg\" alt=\"Heat beating\" style=\"height:300px;margin-top:3rem;\"> </div>"
      ]
    },
    {
      "cell_type": "markdown",
      "metadata": {
        "id": "4Y82LnS7DR6z"
      },
      "source": [
        "<b style=\"color:#BB6464;font-size:18px\">References:</b>\n",
        "\n",
        "* www.python.org\n",
        "* www.sqlite.org"
      ]
    },
    {
      "cell_type": "markdown",
      "metadata": {
        "id": "kCAYB9uHDR6z"
      },
      "source": [
        "<h4 style=\"color:#24A19C;font-size:24px;text-align:center\">About SQLite database</h4>\n",
        "\n",
        "----"
      ]
    },
    {
      "cell_type": "markdown",
      "metadata": {
        "execution": {
          "iopub.execute_input": "2022-02-18T03:20:48.341361Z",
          "iopub.status.busy": "2022-02-18T03:20:48.34092Z",
          "iopub.status.idle": "2022-02-18T03:20:48.349296Z",
          "shell.execute_reply": "2022-02-18T03:20:48.348104Z",
          "shell.execute_reply.started": "2022-02-18T03:20:48.34132Z"
        },
        "id": "QoSHCYreDR60"
      },
      "source": [
        "<p style=\"color:#1C658C\"><i>\"SQLite is a C-language library that implements a small, fast, self-contained, high-reliability, full-featured, SQL database engine. \" - SQLlite.org</i></p>\n",
        "\n",
        "<ul style=\"color:#2C2C34\">\n",
        "<li>SQLite is a database engine, written in the C language. It is a library that software developers embed in their apps.</li>\n",
        "<li>It belongs to the family of embedded database.</li>\n",
        "<li>It is the most widely deployed database engine, as it is used by several of the top web browsers, operating systems, mobile phones, and other embedded systems.</li>\n",
        "<li>SQLite stores the entire database (definitions, tables, indices, and the data itself) as a single cross-platform file on a host machine.</li>\n",
        "<li>The SQLite engine has no standalone processes with which the application program communicates.</li>\n",
        "<li>Due to the server-less design, SQLite applications require less configuration than client–server databases.</li>\n",
        "<li>SQLite implements most of the SQL-92 standard for SQL, but lacks some features.</li>\n",
        "<li>Tables normally include a hidden rowid index column, which gives faster access.</li>\n",
        "<li>Filename extension: .sqlite3, .sqlite, .db</li>    \n",
        "</ul>\n"
      ]
    },
    {
      "cell_type": "code",
      "execution_count": 1,
      "metadata": {
        "execution": {
          "iopub.execute_input": "2022-02-18T13:48:06.184114Z",
          "iopub.status.busy": "2022-02-18T13:48:06.183843Z",
          "iopub.status.idle": "2022-02-18T13:48:06.187217Z",
          "shell.execute_reply": "2022-02-18T13:48:06.186791Z",
          "shell.execute_reply.started": "2022-02-18T13:48:06.184086Z"
        },
        "id": "STZISkQYDR61",
        "trusted": true
      },
      "outputs": [],
      "source": [
        "import os\n",
        "import sqlite3"
      ]
    },
    {
      "cell_type": "code",
      "execution_count": 2,
      "metadata": {
        "colab": {
          "base_uri": "https://localhost:8080/",
          "height": 36
        },
        "execution": {
          "iopub.execute_input": "2022-02-18T13:48:06.18842Z",
          "iopub.status.busy": "2022-02-18T13:48:06.188276Z",
          "iopub.status.idle": "2022-02-18T13:48:06.202252Z",
          "shell.execute_reply": "2022-02-18T13:48:06.201423Z",
          "shell.execute_reply.started": "2022-02-18T13:48:06.188401Z"
        },
        "id": "cQdCxloqDR62",
        "outputId": "dfee1f69-d42b-4179-d567-938610c8e39d",
        "trusted": true
      },
      "outputs": [
        {
          "name": "stderr",
          "output_type": "stream",
          "text": [
            "C:\\Users\\eng20\\AppData\\Local\\Temp\\ipykernel_26324\\1136253820.py:2: DeprecationWarning: version is deprecated and will be removed in Python 3.14\n",
            "  sqlite3.version\n"
          ]
        },
        {
          "data": {
            "text/plain": [
              "'2.6.0'"
            ]
          },
          "execution_count": 2,
          "metadata": {},
          "output_type": "execute_result"
        }
      ],
      "source": [
        "#Version number of SQLite3 module\n",
        "sqlite3.version"
      ]
    },
    {
      "cell_type": "code",
      "execution_count": 3,
      "metadata": {
        "colab": {
          "base_uri": "https://localhost:8080/",
          "height": 36
        },
        "execution": {
          "iopub.execute_input": "2022-02-18T13:48:06.203976Z",
          "iopub.status.busy": "2022-02-18T13:48:06.203238Z",
          "iopub.status.idle": "2022-02-18T13:48:06.214398Z",
          "shell.execute_reply": "2022-02-18T13:48:06.213725Z",
          "shell.execute_reply.started": "2022-02-18T13:48:06.203933Z"
        },
        "id": "wQ8nOGvdDR63",
        "outputId": "eba6f6cb-b7b3-49c8-a715-765fcbe8111b",
        "trusted": true
      },
      "outputs": [
        {
          "data": {
            "text/plain": [
              "'3.45.3'"
            ]
          },
          "execution_count": 3,
          "metadata": {},
          "output_type": "execute_result"
        }
      ],
      "source": [
        "# Version number of the run-time SQLite library\n",
        "sqlite3.sqlite_version"
      ]
    },
    {
      "cell_type": "markdown",
      "metadata": {
        "id": "tAqvc0BTDR63"
      },
      "source": [
        "<h4 style=\"color:#24A19C;font-size:24px;text-align:center\">Create SQLite database</h4>\n",
        "\n",
        "----"
      ]
    },
    {
      "cell_type": "markdown",
      "metadata": {
        "id": "eIG_7x78DR63"
      },
      "source": [
        "<p style=\"color:#2C2C34;font-size:16px\"><i>connect() opens a connection to the SQLite database file database. By default returns a Connection object, unless a custom factory is given.</i></p>\n",
        "\n",
        "<b>Syntax:</b>\n",
        "`sqlite3.connect(database[, timeout, detect_types, isolation_level, check_same_thread, factory, cached_statements, uri])`\n",
        "\n",
        "<p style=\"color:#2C2C34\">where, database -> database is a <b>path-like object</b> which is pathname of the database file to be opened.</p>"
      ]
    },
    {
      "cell_type": "code",
      "execution_count": 4,
      "metadata": {
        "execution": {
          "iopub.execute_input": "2022-02-18T13:48:06.217048Z",
          "iopub.status.busy": "2022-02-18T13:48:06.21655Z",
          "iopub.status.idle": "2022-02-18T13:48:06.226101Z",
          "shell.execute_reply": "2022-02-18T13:48:06.225495Z",
          "shell.execute_reply.started": "2022-02-18T13:48:06.217009Z"
        },
        "id": "xyux6JmWDR64",
        "trusted": true
      },
      "outputs": [],
      "source": [
        "# Create SQLite3 database with name test.db in the current directory\n",
        "db_connection = sqlite3.connect('test.db')"
      ]
    },
    {
      "cell_type": "code",
      "execution_count": 5,
      "metadata": {
        "colab": {
          "base_uri": "https://localhost:8080/"
        },
        "execution": {
          "iopub.execute_input": "2022-02-18T13:48:06.227863Z",
          "iopub.status.busy": "2022-02-18T13:48:06.227441Z",
          "iopub.status.idle": "2022-02-18T13:48:06.238023Z",
          "shell.execute_reply": "2022-02-18T13:48:06.23747Z",
          "shell.execute_reply.started": "2022-02-18T13:48:06.227823Z"
        },
        "id": "dT1T_YEPDR64",
        "outputId": "cbfb34ab-db3f-4ee6-cdc9-9449c1d0d775",
        "trusted": true
      },
      "outputs": [
        {
          "data": {
            "text/plain": [
              "['1.c',\n",
              " '1.ipynb',\n",
              " '1.py',\n",
              " '2_kaggle_Data _file.ipynb',\n",
              " '3_titanic.ipynb',\n",
              " 'Data.csv',\n",
              " 'Python_SQLite_database (1).ipynb',\n",
              " 'tempCodeRunnerFile.py',\n",
              " 'test.db',\n",
              " 'tit.ipynb',\n",
              " 'train.csv']"
            ]
          },
          "execution_count": 5,
          "metadata": {},
          "output_type": "execute_result"
        }
      ],
      "source": [
        "os.listdir()"
      ]
    },
    {
      "cell_type": "markdown",
      "metadata": {
        "id": "9WSNSMnODR64"
      },
      "source": [
        "<h4 style=\"color:#24A19C;font-size:24px;text-align:center\">SQLite3 Database SQL Overview</h4>\n",
        "\n",
        "----"
      ]
    },
    {
      "cell_type": "markdown",
      "metadata": {
        "id": "C6x4BLM1DR64"
      },
      "source": [
        "<b style=\"color:#BB6464;font-size:18px\">create table</b>\n",
        "\n",
        "`create table if not exists <table-name> (<column-name> <data-type> <column-constraint>, <column-name> <data-type> <column-constraint>,...);`\n",
        "    \n",
        "<b style=\"color:#BB6464;font-size:18px\">create index</b>\n",
        "\n",
        "`create <unique> index if not exists <index-name> on <table-name>(<column-name>);`\n",
        "\n",
        "<b style=\"color:#BB6464;font-size:18px\">insert</b>\n",
        "\n",
        "`insert into <table-name>(<column-name>,<column-name>,<column-name>,...)\n",
        " values(<value>,<value>,<value>,...);`\n",
        "\n",
        "<b style=\"color:#BB6464;font-size:18px\">update</b>\n",
        "\n",
        "`update <table-name>\n",
        " set <column-name> = <expr>\n",
        " where expr`\n",
        "\n",
        "<b style=\"color:#BB6464;font-size:18px\">delete</b>\n",
        "\n",
        "`delete from <table-name>\n",
        " where <expr>;`\n",
        "\n",
        "<b style=\"color:#BB6464;font-size:18px\">alter table</b>\n",
        "\n",
        "`alter table <table-name>\n",
        " rename to <new-table-name>;`\n",
        "\n",
        "`alter table <table-name>\n",
        " rename column <column-name> to <new-column-name>;`\n",
        "\n",
        "`alter table <table-name>\n",
        " add column <column-def>;`\n",
        "\n",
        " `alter table <table-name>\n",
        " drop column <column-name>;`\n",
        "\n",
        "<b style=\"color:#BB6464;font-size:18px\">drop table</b>\n",
        "\n",
        "`drop table if exists <table-name>;`\n",
        "\n",
        "<b style=\"color:#BB6464;font-size:18px\">savepoint</b>\n",
        "\n",
        "`savepoint <savepoint-name>;`\n",
        "\n",
        "`release savepoint <savepoint-name>;`\n",
        "\n",
        "`rollback transation to savepoint <savepoint-name>;`\n",
        "\n",
        "<b style=\"color:#BB6464;font-size:18px\">create view</b>\n",
        "\n",
        "`create view if not exists <view-name> as <select-stmt>;`\n",
        "\n",
        "<b style=\"color:#BB6464;font-size:18px\">select</b>\n",
        "\n",
        "`select <expr> as column-alias\n",
        " from <table-name>/<sub-query>\n",
        " where <expr>\n",
        " group by <expr>\n",
        " having <expr>\n",
        " order by <expr> <asc>/<desc> nulls <first>/<last>;`"
      ]
    },
    {
      "cell_type": "markdown",
      "metadata": {
        "id": "AzW6FODHDR65"
      },
      "source": [
        "<h4 style=\"color:#24A19C;font-size:24px;text-align:center\">Database operations using sqlite3.Cursor class methods</h4>\n",
        "\n",
        "----"
      ]
    },
    {
      "cell_type": "markdown",
      "metadata": {
        "id": "mFK3QR2rDR65"
      },
      "source": [
        "<table class=\"table table-stripped\" style=\"font-size:16px;\">\n",
        "  <tr>\n",
        "    <th>Cursor function</th>\n",
        "    <th>Description</th>\n",
        "  </tr>\n",
        "  <tr>\n",
        "    <td>execute()</td>\n",
        "    <td>Executes an SQL statement.</td>\n",
        "  </tr>\n",
        "  <tr>\n",
        "    <td>executemany()</td>\n",
        "    <td>Executes a parameterized SQL command against all parameter sequences or mappings.</td>\n",
        "  </tr>\n",
        "  <tr>\n",
        "    <td>executescript()</td>\n",
        "    <td>Nonstandard convenience method for executing multiple SQL statements at once.</td>\n",
        "  </tr>\n",
        "  <tr>\n",
        "    <td>fetchone()</td>\n",
        "    <td>Fetches the next row of a query result set, returning a single sequence, or None when no more data is available.</td>\n",
        "  </tr>\n",
        "  <tr>\n",
        "    <td>fetchmany()</td>\n",
        "    <td>Fetches the next set of rows of a query result, returning a list. An empty list is returned when no more rows are available.</td>\n",
        "  </tr>\n",
        "  <tr>\n",
        "      <td>fetchall()</td>\n",
        "    <td>Fetches all (remaining) rows of a query result, returning a list.</td>\n",
        "  </tr>\n",
        "  <tr>\n",
        "    <td>close()</td>\n",
        "    <td>Close the cursor now.</td>\n",
        "  </tr>\n",
        "</table>"
      ]
    },
    {
      "cell_type": "markdown",
      "metadata": {
        "id": "uxhG-8riDR65"
      },
      "source": [
        "<p style=\"color:#2C2C34;font-size:16px\">Steps to execute SQL query in SQLite3 database:\n",
        "\n",
        "<ol>\n",
        "<li style=\"font-size:16px;\">Open databse connection</li>\n",
        "<li style=\"font-size:16px;\">Instantiate sqlite3.Cursor class</li>\n",
        "<li style=\"font-size:16px;\">Execute database queries using cursor functions/methods</li>\n",
        "<li style=\"font-size:16px;\">Close the cursor</li>\n",
        "<li style=\"font-size:16px;\">Close the database connection</li>\n",
        "</ol>\n",
        "</p>"
      ]
    },
    {
      "cell_type": "code",
      "execution_count": 6,
      "metadata": {
        "execution": {
          "iopub.execute_input": "2022-02-18T13:48:06.240643Z",
          "iopub.status.busy": "2022-02-18T13:48:06.240416Z",
          "iopub.status.idle": "2022-02-18T13:48:06.24832Z",
          "shell.execute_reply": "2022-02-18T13:48:06.247708Z",
          "shell.execute_reply.started": "2022-02-18T13:48:06.240616Z"
        },
        "id": "lGy1PyHZDR65",
        "trusted": true
      },
      "outputs": [],
      "source": [
        "# Create cursor object\n",
        "cur = db_connection.cursor()"
      ]
    },
    {
      "cell_type": "code",
      "execution_count": 7,
      "metadata": {
        "colab": {
          "base_uri": "https://localhost:8080/"
        },
        "execution": {
          "iopub.execute_input": "2022-02-18T13:48:06.249979Z",
          "iopub.status.busy": "2022-02-18T13:48:06.249587Z",
          "iopub.status.idle": "2022-02-18T13:48:06.27146Z",
          "shell.execute_reply": "2022-02-18T13:48:06.270681Z",
          "shell.execute_reply.started": "2022-02-18T13:48:06.249929Z"
        },
        "id": "GhOoEUx1DR66",
        "outputId": "c2bc0d1b-f5f5-4247-cb4a-e0ecebb360f8",
        "trusted": true
      },
      "outputs": [
        {
          "data": {
            "text/plain": [
              "<sqlite3.Cursor at 0x2b41db22140>"
            ]
          },
          "execution_count": 7,
          "metadata": {},
          "output_type": "execute_result"
        }
      ],
      "source": [
        "cur.execute(\"create table if not exists employees \\\n",
        "            (firstname text, lastname text, gender text, designation text, \\\n",
        "             department text, supervisor integer);\")"
      ]
    },
    {
      "cell_type": "code",
      "execution_count": 8,
      "metadata": {
        "execution": {
          "iopub.execute_input": "2022-02-18T13:48:06.273179Z",
          "iopub.status.busy": "2022-02-18T13:48:06.27279Z",
          "iopub.status.idle": "2022-02-18T13:48:06.335149Z",
          "shell.execute_reply": "2022-02-18T13:48:06.334577Z",
          "shell.execute_reply.started": "2022-02-18T13:48:06.273141Z"
        },
        "id": "_-6KtLiRDR66",
        "trusted": true
      },
      "outputs": [],
      "source": [
        "cur.execute(\"insert into employees \\\n",
        "             values('Martin','Taylor','Male','Chief Executive Officer','CEO',null);\")\n",
        "db_connection.commit()\n",
        "\n",
        "cur.execute(\"insert into employees \\\n",
        "             values('Ron','Williams','Male','Marketing Manager','Marketing',1);\")\n",
        "db_connection.commit()\n",
        "\n",
        "cur.execute(\"insert into employees \\\n",
        "             values('Mike','Copperfield','Male','Chief Financial Officer','Administration',1);\")\n",
        "db_connection.commit()\n",
        "\n",
        "cur.execute(\"insert into employees \\\n",
        "             values('Michael','Williams','Male','Information Services Manager','Administration',1);\")\n",
        "db_connection.commit()\n",
        "\n",
        "cur.execute(\"insert into employees \\\n",
        "             values('Kim','Marshall','Female','Vice Pesident of Sales','Sales',1);\")\n",
        "db_connection.commit()\n",
        "\n",
        "cur.execute(\"insert into employees \\\n",
        "             values('Linda','Smith','Female','Human Resources Manager','Administration',3);\")\n",
        "db_connection.commit()\n",
        "cur.close()"
      ]
    },
    {
      "cell_type": "markdown",
      "metadata": {
        "id": "5kfAStKKDR66"
      },
      "source": [
        "<h4 style=\"color:#24A19C;font-size:24px;text-align:center\">Quering database tables</h4>\n",
        "\n",
        "----"
      ]
    },
    {
      "cell_type": "code",
      "execution_count": 9,
      "metadata": {
        "colab": {
          "base_uri": "https://localhost:8080/"
        },
        "execution": {
          "iopub.execute_input": "2022-02-18T13:48:06.337696Z",
          "iopub.status.busy": "2022-02-18T13:48:06.337301Z",
          "iopub.status.idle": "2022-02-18T13:48:06.344024Z",
          "shell.execute_reply": "2022-02-18T13:48:06.343473Z",
          "shell.execute_reply.started": "2022-02-18T13:48:06.337657Z"
        },
        "id": "haBl9RkZDR66",
        "outputId": "1a79a985-185b-4e3b-918e-77fe3bc3bb2f",
        "trusted": true
      },
      "outputs": [
        {
          "name": "stdout",
          "output_type": "stream",
          "text": [
            "Number of records retrieved:  30\n"
          ]
        }
      ],
      "source": [
        "cur = db_connection.cursor()\n",
        "cur.execute(\"select * from employees;\")\n",
        "emp_list = cur.fetchall()\n",
        "print('Number of records retrieved: ',len(emp_list))\n",
        "cur.close()"
      ]
    },
    {
      "cell_type": "code",
      "execution_count": 10,
      "metadata": {
        "colab": {
          "base_uri": "https://localhost:8080/"
        },
        "execution": {
          "iopub.execute_input": "2022-02-18T13:48:06.437334Z",
          "iopub.status.busy": "2022-02-18T13:48:06.436777Z",
          "iopub.status.idle": "2022-02-18T13:48:06.444636Z",
          "shell.execute_reply": "2022-02-18T13:48:06.443838Z",
          "shell.execute_reply.started": "2022-02-18T13:48:06.437292Z"
        },
        "id": "30WG2UiJDR66",
        "outputId": "45ae0708-7a6a-450f-9bf3-df7d32916da1",
        "trusted": true
      },
      "outputs": [
        {
          "name": "stdout",
          "output_type": "stream",
          "text": [
            "0 ('Martin', 'Taylor', 'Male', 'Chief Executive Officer', 'CEO', None)\n",
            "1 ('Ron', 'Williams', 'Male', 'Marketing Manager', 'Marketing', 1)\n",
            "2 ('Mike', 'Copperfield', 'Male', 'Chief Financial Officer', 'Administration', 1)\n",
            "3 ('Michael', 'Williams', 'Male', 'Information Services Manager', 'Administration', 1)\n",
            "4 ('Kim', 'Marshall', 'Female', 'Vice Pesident of Sales', 'Sales', 1)\n",
            "5 ('Linda', 'Smith', 'Female', 'Human Resources Manager', 'Administration', 3)\n",
            "6 ('Martin', 'Taylor', 'Male', 'Chief Executive Officer', 'CEO', None)\n",
            "7 ('Ron', 'Williams', 'Male', 'Marketing Manager', 'Marketing', 1)\n",
            "8 ('Mike', 'Copperfield', 'Male', 'Chief Financial Officer', 'Administration', 1)\n",
            "9 ('Michael', 'Williams', 'Male', 'Information Services Manager', 'Administration', 1)\n",
            "10 ('Kim', 'Marshall', 'Female', 'Vice Pesident of Sales', 'Sales', 1)\n",
            "11 ('Linda', 'Smith', 'Female', 'Human Resources Manager', 'Administration', 3)\n",
            "12 ('Martin', 'Taylor', 'Male', 'Chief Executive Officer', 'CEO', None)\n",
            "13 ('Ron', 'Williams', 'Male', 'Marketing Manager', 'Marketing', 1)\n",
            "14 ('Mike', 'Copperfield', 'Male', 'Chief Financial Officer', 'Administration', 1)\n",
            "15 ('Michael', 'Williams', 'Male', 'Information Services Manager', 'Administration', 1)\n",
            "16 ('Kim', 'Marshall', 'Female', 'Vice Pesident of Sales', 'Sales', 1)\n",
            "17 ('Linda', 'Smith', 'Female', 'Human Resources Manager', 'Administration', 3)\n",
            "18 ('Martin', 'Taylor', 'Male', 'Chief Executive Officer', 'CEO', None)\n",
            "19 ('Ron', 'Williams', 'Male', 'Marketing Manager', 'Marketing', 1)\n",
            "20 ('Mike', 'Copperfield', 'Male', 'Chief Financial Officer', 'Administration', 1)\n",
            "21 ('Michael', 'Williams', 'Male', 'Information Services Manager', 'Administration', 1)\n",
            "22 ('Kim', 'Marshall', 'Female', 'Vice Pesident of Sales', 'Sales', 1)\n",
            "23 ('Linda', 'Smith', 'Female', 'Human Resources Manager', 'Administration', 3)\n",
            "24 ('Martin', 'Taylor', 'Male', 'Chief Executive Officer', 'CEO', None)\n",
            "25 ('Ron', 'Williams', 'Male', 'Marketing Manager', 'Marketing', 1)\n",
            "26 ('Mike', 'Copperfield', 'Male', 'Chief Financial Officer', 'Administration', 1)\n",
            "27 ('Michael', 'Williams', 'Male', 'Information Services Manager', 'Administration', 1)\n",
            "28 ('Kim', 'Marshall', 'Female', 'Vice Pesident of Sales', 'Sales', 1)\n",
            "29 ('Linda', 'Smith', 'Female', 'Human Resources Manager', 'Administration', 3)\n"
          ]
        }
      ],
      "source": [
        "for idx,emp in enumerate(emp_list):\n",
        "    print(idx,emp)"
      ]
    },
    {
      "cell_type": "markdown",
      "metadata": {
        "id": "N5PYfQCCDR67"
      },
      "source": [
        "<h4 style=\"color:#24A19C;font-size:24px;text-align:center\">Named style placeholders</h4>\n",
        "\n",
        "----"
      ]
    },
    {
      "cell_type": "code",
      "execution_count": 11,
      "metadata": {},
      "outputs": [
        {
          "name": "stdout",
          "output_type": "stream",
          "text": [
            "('Martin', 'Taylor', 'Male', 'Chief Executive Officer', 'CEO', None)\n",
            "('Mike', 'Copperfield', 'Male', 'Chief Financial Officer', 'Administration', 1)\n",
            "('Michael', 'Williams', 'Male', 'Information Services Manager', 'Administration', 1)\n",
            "('Martin', 'Taylor', 'Male', 'Chief Executive Officer', 'CEO', None)\n",
            "('Mike', 'Copperfield', 'Male', 'Chief Financial Officer', 'Administration', 1)\n",
            "('Michael', 'Williams', 'Male', 'Information Services Manager', 'Administration', 1)\n",
            "('Martin', 'Taylor', 'Male', 'Chief Executive Officer', 'CEO', None)\n",
            "('Mike', 'Copperfield', 'Male', 'Chief Financial Officer', 'Administration', 1)\n",
            "('Michael', 'Williams', 'Male', 'Information Services Manager', 'Administration', 1)\n",
            "('Martin', 'Taylor', 'Male', 'Chief Executive Officer', 'CEO', None)\n",
            "('Mike', 'Copperfield', 'Male', 'Chief Financial Officer', 'Administration', 1)\n",
            "('Michael', 'Williams', 'Male', 'Information Services Manager', 'Administration', 1)\n",
            "('Martin', 'Taylor', 'Male', 'Chief Executive Officer', 'CEO', None)\n",
            "('Mike', 'Copperfield', 'Male', 'Chief Financial Officer', 'Administration', 1)\n",
            "('Michael', 'Williams', 'Male', 'Information Services Manager', 'Administration', 1)\n"
          ]
        }
      ],
      "source": [
        "cur = db_connection.cursor()\n",
        "cur.execute(\"SELECT * FROM employees WHERE firstname LIKE :name\", {\"name\": \"M%\"})\n",
        "result = cur.fetchall()\n",
        "for row in result:\n",
        "    print(row)\n",
        "cur.close()"
      ]
    },
    {
      "cell_type": "markdown",
      "metadata": {
        "id": "SLK4F0-9DR67"
      },
      "source": [
        "<h4 style=\"color:#24A19C;font-size:24px;text-align:center\">Aggregation Query</h4>\n",
        "\n",
        "----"
      ]
    },
    {
      "cell_type": "code",
      "execution_count": 12,
      "metadata": {},
      "outputs": [
        {
          "name": "stdout",
          "output_type": "stream",
          "text": [
            "('Administration', 15)\n",
            "('CEO', 5)\n",
            "('Marketing', 5)\n",
            "('Sales', 5)\n"
          ]
        }
      ],
      "source": [
        "cur = db_connection.cursor()\n",
        "cur.execute(\"SELECT department, COUNT(*) as count FROM employees GROUP BY department\")\n",
        "aggregation_result = cur.fetchall()\n",
        "for row in aggregation_result:\n",
        "    print(row)\n",
        "cur.close()"
      ]
    },
    {
      "cell_type": "markdown",
      "metadata": {
        "id": "ouFiD1N6DR67"
      },
      "source": [
        "<h4 style=\"color:#24A19C;font-size:24px;text-align:center\">Transactions</h4>\n",
        "\n",
        "----"
      ]
    },
    {
      "cell_type": "code",
      "execution_count": 20,
      "metadata": {},
      "outputs": [
        {
          "name": "stdout",
          "output_type": "stream",
          "text": [
            "Transaction committed successfully.\n"
          ]
        }
      ],
      "source": [
        "try:\n",
        "    # Start a transaction\n",
        "    db_connection.execute(\"BEGIN\")\n",
        "    \n",
        "    # Create a cursor object\n",
        "    cur = db_connection.cursor()\n",
        "    \n",
        "    # Update employee records with multiple WHERE conditions\n",
        "    cur.execute(\"\"\"\n",
        "        UPDATE employees\n",
        "        SET department = 'IT'\n",
        "        WHERE department = 'Sales' AND gender = 'Male'\n",
        "    \"\"\")\n",
        "    \n",
        "    # Delete employee records with multiple WHERE conditions\n",
        "    cur.execute(\"\"\"\n",
        "        DELETE FROM employees\n",
        "        WHERE department = 'Marketing' OR designation = 'HR Specialist'\n",
        "    \"\"\")\n",
        "    \n",
        "    # Commit the transaction\n",
        "    db_connection.commit()\n",
        "    print(\"Transaction committed successfully.\")\n",
        "    \n",
        "except sqlite3.Error as e:\n",
        "    # Rollback the transaction in case of error\n",
        "    db_connection.rollback()\n",
        "    print(\"Transaction failed and rolled back. Error:\", e)\n",
        "    \n",
        "finally:\n",
        "    # Close the cursor\n",
        "    cur.close()"
      ]
    },
    {
      "cell_type": "markdown",
      "metadata": {
        "id": "G55_esCbDR68"
      },
      "source": [
        "<h4 style=\"color:#24A19C;font-size:24px;text-align:center\">Execute multiple SQL statements at once</h4>\n",
        "\n",
        "----"
      ]
    },
    {
      "cell_type": "code",
      "execution_count": 17,
      "metadata": {},
      "outputs": [
        {
          "name": "stdout",
          "output_type": "stream",
          "text": [
            "Inserted 3 records into the employees table.\n"
          ]
        }
      ],
      "source": [
        "cur = db_connection.cursor()\n",
        "cur.executescript(\"\"\"\n",
        "    INSERT INTO employees VALUES ('Alice', 'Johnson', 'Female', 'Product Manager', 'Product', 2);\n",
        "    INSERT INTO employees VALUES ('Bob', 'Brown', 'Male', 'UX Designer', 'Design', 2);\n",
        "    INSERT INTO employees VALUES ('Charlie', 'Davis', 'Male', 'DevOps Engineer', 'IT', 2);\n",
        "\"\"\")\n",
        "db_connection.commit()\n",
        "cur.close()\n",
        "\n",
        "print(\"Inserted 3 records into the employees table.\")"
      ]
    },
    {
      "cell_type": "markdown",
      "metadata": {
        "id": "G0AwCPVnDR68"
      },
      "source": [
        "<h4 style=\"color:#24A19C;font-size:24px;text-align:center\">executemany() -  Parameterized SQL command</h4>\n",
        "\n",
        "----"
      ]
    },
    {
      "cell_type": "code",
      "execution_count": 16,
      "metadata": {},
      "outputs": [
        {
          "name": "stdout",
          "output_type": "stream",
          "text": [
            "Inserted 5 records into the employees table.\n"
          ]
        }
      ],
      "source": [
        "cur = db_connection.cursor()\n",
        "\n",
        "# List of tuples containing employee data\n",
        "employee_data = [\n",
        "    ('John', 'Doe', 'Male', 'Software Engineer', 'IT', 2),\n",
        "    ('Jane', 'Doe', 'Female', 'Data Scientist', 'IT', 2),\n",
        "    ('Alice', 'Johnson', 'Female', 'Product Manager', 'Product', 2),\n",
        "    ('Bob', 'Brown', 'Male', 'UX Designer', 'Design', 2),\n",
        "    ('Charlie', 'Davis', 'Male', 'DevOps Engineer', 'IT', 2)\n",
        "]\n",
        "\n",
        "# Parameterized SQL command\n",
        "sql_command = \"INSERT INTO employees VALUES (?, ?, ?, ?, ?, ?)\"\n",
        "\n",
        "# Execute the command with the list of tuples\n",
        "cur.executemany(sql_command, employee_data)\n",
        "db_connection.commit()\n",
        "cur.close()\n",
        "\n",
        "print(\"Inserted {} records into the employees table.\".format(len(employee_data)))"
      ]
    },
    {
      "cell_type": "markdown",
      "metadata": {
        "id": "CaCRbmIBDR7C"
      },
      "source": [
        "<h4 style=\"color:#24A19C;font-size:24px;text-align:center\">rowcount - attribute</h4>\n",
        "\n",
        "----"
      ]
    },
    {
      "cell_type": "code",
      "execution_count": 19,
      "metadata": {},
      "outputs": [
        {
          "name": "stdout",
          "output_type": "stream",
          "text": [
            "Number of rows deleted: 5\n"
          ]
        }
      ],
      "source": [
        "cur = db_connection.cursor()\n",
        "cur.execute(\"DELETE FROM employees WHERE department = 'CEO'\")\n",
        "db_connection.commit()\n",
        "print(\"Number of rows deleted:\", cur.rowcount)\n",
        "cur.close()"
      ]
    },
    {
      "cell_type": "markdown",
      "metadata": {
        "id": "m7c5U0UaDR7D"
      },
      "source": [
        "To be continued..."
      ]
    }
  ],
  "metadata": {
    "colab": {
      "provenance": []
    },
    "kernelspec": {
      "display_name": "base",
      "language": "python",
      "name": "python3"
    },
    "language_info": {
      "codemirror_mode": {
        "name": "ipython",
        "version": 3
      },
      "file_extension": ".py",
      "mimetype": "text/x-python",
      "name": "python",
      "nbconvert_exporter": "python",
      "pygments_lexer": "ipython3",
      "version": "3.12.7"
    }
  },
  "nbformat": 4,
  "nbformat_minor": 0
}
